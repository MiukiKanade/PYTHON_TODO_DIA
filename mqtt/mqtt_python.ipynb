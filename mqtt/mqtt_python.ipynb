{
 "cells": [
  {
   "cell_type": "code",
   "execution_count": 1,
   "metadata": {},
   "outputs": [],
   "source": [
    "import paho.mqtt.client as mqtt\n",
    "import sys\n",
    "from gtts import gTTS\n",
    "import os\n",
    "import threading as threading, time\n",
    "from threading import Thread"
   ]
  },
  {
   "cell_type": "code",
   "execution_count": 2,
   "metadata": {},
   "outputs": [],
   "source": [
    "#Callback - conexao ao broker realizada\n",
    "def on_connect(client, userdata, flags, rc):\n",
    "    print(f'[STATUS] Conectado ao Broker. Resultado de conexao: {str(rc)}')\n",
    " \n",
    "    #faz subscribe automatico no topico\n",
    "    client.subscribe('pythonTodoDia')"
   ]
  },
  {
   "cell_type": "code",
   "execution_count": 3,
   "metadata": {},
   "outputs": [],
   "source": [
    "#Callback - mensagem recebida do broker\n",
    "def on_message(client, userdata, msg):\n",
    "    mensagem_recebida = str(msg.payload)\n",
    "    \n",
    "    print(f'[MSG RECEBIDA] Topico: {msg.topic} Mensagem: {mensagem_recebida}')\n",
    "    converter_texto_voz(mensagem_recebida)\n",
    "    return mensagem_recebida"
   ]
  },
  {
   "cell_type": "code",
   "execution_count": 4,
   "metadata": {},
   "outputs": [],
   "source": [
    "#callback - converter texto em voz\n",
    "def converter_texto_voz(mensagem_recebida):\n",
    "    #rotina de conversao texto em voz\n",
    "    mensagem = str(mensagem_recebida[1:])\n",
    "    print(mensagem)\n",
    "    audio_texto = gTTS(text=mensagem, lang='pt')\n",
    "    audio_texto.save('audio.mp3')"
   ]
  },
  {
   "cell_type": "code",
   "execution_count": 5,
   "metadata": {},
   "outputs": [],
   "source": [
    "class Audio_thread(threading.Thread):\n",
    "    def __init__(self, meuId, cont, mutex):\n",
    "        self.meuId = meuId\n",
    "        self.cont = cont\n",
    "        self.mutex = mutex\n",
    "        threading.Thread.__init__(self)\n",
    "    \n",
    "    #callback - reproduzir audio\n",
    "    def run(self):\n",
    "        while(True):\n",
    "            with self.mutex:\n",
    "                os.system('audio.mp3')\n",
    "                time.sleep(5)"
   ]
  },
  {
   "cell_type": "code",
   "execution_count": null,
   "metadata": {
    "scrolled": true
   },
   "outputs": [
    {
     "name": "stdout",
     "output_type": "stream",
     "text": [
      "[STATUS] Inicializando MQTT...\n",
      "[STATUS] Conectado ao Broker. Resultado de conexao: 0\n",
      "[MSG RECEBIDA] Topico: pythonTodoDia Mensagem: b'um dia eu compro uma v-lux'\n",
      "'um dia eu compro uma v-lux'\n",
      "[MSG RECEBIDA] Topico: pythonTodoDia Mensagem: b'que tal andar bicicleta'\n",
      "'que tal andar bicicleta'\n",
      "[MSG RECEBIDA] Topico: pythonTodoDia Mensagem: b'que tal andar de bicicleta'\n",
      "'que tal andar de bicicleta'\n"
     ]
    }
   ],
   "source": [
    "stdoutmutex = threading.Lock()\n",
    "threads = []\n",
    "thread1 = Audio_thread(1, 100, stdoutmutex)\n",
    "thread1.daemon = True\n",
    "thread1.start()\n",
    "\n",
    "for thread in threads:\n",
    "    thread.join()\n",
    "\n",
    "#programa principal:\n",
    "try:\n",
    "    print('[STATUS] Inicializando MQTT...')\n",
    "    #inicializa MQTT:\n",
    "    client = mqtt.Client()\n",
    "\n",
    "    client.on_connect = on_connect\n",
    "    client.on_message = on_message  \n",
    "\n",
    "    client.connect('mqtt.eclipse.org', 1883, 80)\n",
    "   \n",
    "    client.loop_forever() \n",
    "    print('Saindo da thread principal')\n",
    "\n",
    "except KeyboardInterrupt:\n",
    "    print ('\\nCtrl+C pressionado, encerrando aplicacao e saindo...')\n",
    "    sys.exit(0)"
   ]
  },
  {
   "cell_type": "code",
   "execution_count": null,
   "metadata": {},
   "outputs": [],
   "source": []
  }
 ],
 "metadata": {
  "kernelspec": {
   "display_name": "Python 3",
   "language": "python",
   "name": "python3"
  },
  "language_info": {
   "codemirror_mode": {
    "name": "ipython",
    "version": 3
   },
   "file_extension": ".py",
   "mimetype": "text/x-python",
   "name": "python",
   "nbconvert_exporter": "python",
   "pygments_lexer": "ipython3",
   "version": "3.7.7"
  }
 },
 "nbformat": 4,
 "nbformat_minor": 4
}
